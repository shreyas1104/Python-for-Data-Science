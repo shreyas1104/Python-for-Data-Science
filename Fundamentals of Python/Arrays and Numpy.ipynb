{
 "cells": [
  {
   "cell_type": "code",
   "execution_count": 1,
   "id": "7ccc380c",
   "metadata": {},
   "outputs": [],
   "source": [
    "l = [234, 345, 456, 567, 678]"
   ]
  },
  {
   "cell_type": "code",
   "execution_count": 2,
   "id": "244df855",
   "metadata": {},
   "outputs": [
    {
     "data": {
      "text/plain": [
       "[234, 345, 456, 567, 678]"
      ]
     },
     "execution_count": 2,
     "metadata": {},
     "output_type": "execute_result"
    }
   ],
   "source": [
    "l"
   ]
  },
  {
   "cell_type": "code",
   "execution_count": 22,
   "id": "52c3abb2",
   "metadata": {},
   "outputs": [
    {
     "data": {
      "text/plain": [
       "[456, 567]"
      ]
     },
     "execution_count": 22,
     "metadata": {},
     "output_type": "execute_result"
    }
   ],
   "source": [
    "l[2:]"
   ]
  },
  {
   "cell_type": "code",
   "execution_count": 23,
   "id": "ff5f7b8d",
   "metadata": {},
   "outputs": [],
   "source": [
    "d = l[2:]"
   ]
  },
  {
   "cell_type": "code",
   "execution_count": 24,
   "id": "0df4dacb",
   "metadata": {},
   "outputs": [
    {
     "data": {
      "text/plain": [
       "[456, 567]"
      ]
     },
     "execution_count": 24,
     "metadata": {},
     "output_type": "execute_result"
    }
   ],
   "source": [
    "d"
   ]
  },
  {
   "cell_type": "code",
   "execution_count": null,
   "id": "f1f1134f",
   "metadata": {},
   "outputs": [],
   "source": [
    "d[:] = 222"
   ]
  },
  {
   "cell_type": "code",
   "execution_count": 25,
   "id": "8bf87c15",
   "metadata": {},
   "outputs": [
    {
     "data": {
      "text/plain": [
       "[456, 567]"
      ]
     },
     "execution_count": 25,
     "metadata": {},
     "output_type": "execute_result"
    }
   ],
   "source": [
    "d"
   ]
  },
  {
   "cell_type": "code",
   "execution_count": 3,
   "id": "5b4be272",
   "metadata": {},
   "outputs": [],
   "source": [
    "import numpy as np"
   ]
  },
  {
   "cell_type": "code",
   "execution_count": 4,
   "id": "abc5737b",
   "metadata": {},
   "outputs": [],
   "source": [
    "a = np.array(l)"
   ]
  },
  {
   "cell_type": "code",
   "execution_count": 5,
   "id": "9d99bc2b",
   "metadata": {},
   "outputs": [
    {
     "data": {
      "text/plain": [
       "array([234, 345, 456, 567, 678])"
      ]
     },
     "execution_count": 5,
     "metadata": {},
     "output_type": "execute_result"
    }
   ],
   "source": [
    "a"
   ]
  },
  {
   "cell_type": "code",
   "execution_count": 6,
   "id": "9f0989b9",
   "metadata": {},
   "outputs": [],
   "source": [
    "b = np.array([2, 'shreyas', 3.5])"
   ]
  },
  {
   "cell_type": "code",
   "execution_count": 7,
   "id": "e13622f6",
   "metadata": {},
   "outputs": [
    {
     "data": {
      "text/plain": [
       "array(['2', 'shreyas', '3.5'], dtype='<U32')"
      ]
     },
     "execution_count": 7,
     "metadata": {},
     "output_type": "execute_result"
    }
   ],
   "source": [
    "b"
   ]
  },
  {
   "cell_type": "code",
   "execution_count": 8,
   "id": "c241de00",
   "metadata": {},
   "outputs": [
    {
     "name": "stdout",
     "output_type": "stream",
     "text": [
      "['2' 'shreyas' '3.5']\n"
     ]
    }
   ],
   "source": [
    "print(b)          # all are converted to string"
   ]
  },
  {
   "cell_type": "code",
   "execution_count": 9,
   "id": "1f98f3e8",
   "metadata": {},
   "outputs": [
    {
     "data": {
      "text/plain": [
       "678"
      ]
     },
     "execution_count": 9,
     "metadata": {},
     "output_type": "execute_result"
    }
   ],
   "source": [
    "l.pop()"
   ]
  },
  {
   "cell_type": "code",
   "execution_count": 10,
   "id": "ce74786c",
   "metadata": {},
   "outputs": [
    {
     "data": {
      "text/plain": [
       "[234, 345, 456, 567]"
      ]
     },
     "execution_count": 10,
     "metadata": {},
     "output_type": "execute_result"
    }
   ],
   "source": [
    "l"
   ]
  },
  {
   "cell_type": "code",
   "execution_count": 11,
   "id": "e8df311c",
   "metadata": {},
   "outputs": [
    {
     "data": {
      "text/plain": [
       "456.0"
      ]
     },
     "execution_count": 11,
     "metadata": {},
     "output_type": "execute_result"
    }
   ],
   "source": [
    "a.mean()"
   ]
  },
  {
   "cell_type": "code",
   "execution_count": 12,
   "id": "344b835e",
   "metadata": {},
   "outputs": [],
   "source": [
    "c = np.array([2, 3, 4, 5.5, True])"
   ]
  },
  {
   "cell_type": "code",
   "execution_count": 13,
   "id": "5a3055b3",
   "metadata": {},
   "outputs": [
    {
     "name": "stdout",
     "output_type": "stream",
     "text": [
      "[2.  3.  4.  5.5 1. ]\n"
     ]
    }
   ],
   "source": [
    "print(c)                  # True gets converted to 1.0"
   ]
  },
  {
   "cell_type": "markdown",
   "id": "7b0e2d18",
   "metadata": {},
   "source": [
    "---"
   ]
  },
  {
   "cell_type": "code",
   "execution_count": 14,
   "id": "a79caf04",
   "metadata": {},
   "outputs": [],
   "source": [
    "# Slicing in Arrays"
   ]
  },
  {
   "cell_type": "code",
   "execution_count": 15,
   "id": "5b162cda",
   "metadata": {},
   "outputs": [
    {
     "data": {
      "text/plain": [
       "array([456, 567, 678])"
      ]
     },
     "execution_count": 15,
     "metadata": {},
     "output_type": "execute_result"
    }
   ],
   "source": [
    "a[2:]"
   ]
  },
  {
   "cell_type": "code",
   "execution_count": 16,
   "id": "addf689d",
   "metadata": {},
   "outputs": [
    {
     "data": {
      "text/plain": [
       "array([456, 567, 678])"
      ]
     },
     "execution_count": 16,
     "metadata": {},
     "output_type": "execute_result"
    }
   ],
   "source": [
    "a[-3:]"
   ]
  },
  {
   "cell_type": "code",
   "execution_count": 17,
   "id": "1018d765",
   "metadata": {},
   "outputs": [],
   "source": [
    "b = a[3:]"
   ]
  },
  {
   "cell_type": "code",
   "execution_count": 18,
   "id": "f45661ce",
   "metadata": {},
   "outputs": [
    {
     "data": {
      "text/plain": [
       "array([567, 678])"
      ]
     },
     "execution_count": 18,
     "metadata": {},
     "output_type": "execute_result"
    }
   ],
   "source": [
    "b"
   ]
  },
  {
   "cell_type": "code",
   "execution_count": 19,
   "id": "ee7fbb1d",
   "metadata": {},
   "outputs": [],
   "source": [
    "b[:] = 111"
   ]
  },
  {
   "cell_type": "code",
   "execution_count": 20,
   "id": "b2a37a33",
   "metadata": {},
   "outputs": [
    {
     "data": {
      "text/plain": [
       "array([111, 111])"
      ]
     },
     "execution_count": 20,
     "metadata": {},
     "output_type": "execute_result"
    }
   ],
   "source": [
    "b"
   ]
  },
  {
   "cell_type": "code",
   "execution_count": 21,
   "id": "4e8ef918",
   "metadata": {},
   "outputs": [
    {
     "data": {
      "text/plain": [
       "array([234, 345, 456, 111, 111])"
      ]
     },
     "execution_count": 21,
     "metadata": {},
     "output_type": "execute_result"
    }
   ],
   "source": [
    "a            # does not create a new array (unlike lists), b is only a view of a's slice, any changes to b will reflect in a"
   ]
  },
  {
   "cell_type": "code",
   "execution_count": 26,
   "id": "ab077511",
   "metadata": {},
   "outputs": [],
   "source": [
    "c = a.copy()     # copy() can be used to make a copy where changes won't reflect in the original array"
   ]
  },
  {
   "cell_type": "code",
   "execution_count": 27,
   "id": "f915baeb",
   "metadata": {},
   "outputs": [
    {
     "data": {
      "text/plain": [
       "array([234, 345, 456, 111, 111])"
      ]
     },
     "execution_count": 27,
     "metadata": {},
     "output_type": "execute_result"
    }
   ],
   "source": [
    "c"
   ]
  },
  {
   "cell_type": "code",
   "execution_count": 28,
   "id": "252d692e",
   "metadata": {},
   "outputs": [],
   "source": [
    "c[0] = 0"
   ]
  },
  {
   "cell_type": "code",
   "execution_count": 29,
   "id": "0bc35293",
   "metadata": {},
   "outputs": [
    {
     "data": {
      "text/plain": [
       "array([  0, 345, 456, 111, 111])"
      ]
     },
     "execution_count": 29,
     "metadata": {},
     "output_type": "execute_result"
    }
   ],
   "source": [
    "c"
   ]
  },
  {
   "cell_type": "code",
   "execution_count": 30,
   "id": "49173eb0",
   "metadata": {},
   "outputs": [
    {
     "data": {
      "text/plain": [
       "array([234, 345, 456, 111, 111])"
      ]
     },
     "execution_count": 30,
     "metadata": {},
     "output_type": "execute_result"
    }
   ],
   "source": [
    "a"
   ]
  },
  {
   "cell_type": "code",
   "execution_count": null,
   "id": "15d49d8b",
   "metadata": {},
   "outputs": [],
   "source": []
  }
 ],
 "metadata": {
  "kernelspec": {
   "display_name": "Python 3",
   "language": "python",
   "name": "python3"
  },
  "language_info": {
   "codemirror_mode": {
    "name": "ipython",
    "version": 3
   },
   "file_extension": ".py",
   "mimetype": "text/x-python",
   "name": "python",
   "nbconvert_exporter": "python",
   "pygments_lexer": "ipython3",
   "version": "3.8.8"
  }
 },
 "nbformat": 4,
 "nbformat_minor": 5
}
