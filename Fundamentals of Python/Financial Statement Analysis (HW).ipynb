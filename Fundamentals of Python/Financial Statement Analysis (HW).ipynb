{
 "cells": [
  {
   "cell_type": "code",
   "execution_count": 1,
   "id": "9093feb2",
   "metadata": {},
   "outputs": [],
   "source": [
    "#Data \n",
    "revenue = [14574.49, 7606.46, 8611.41, 9175.41, 8058.65, 8105.44, 11496.28, 9766.09, 10305.32, 14379.96, 10713.97, 15433.50]\n",
    "expenses = [12051.82, 5695.07, 12319.20, 12089.72, 8658.57, 840.20, 3285.73, 5821.12, 6976.93, 16618.61, 10054.37, 3803.96]"
   ]
  },
  {
   "cell_type": "code",
   "execution_count": 27,
   "id": "b1264256",
   "metadata": {},
   "outputs": [
    {
     "name": "stdout",
     "output_type": "stream",
     "text": [
      "Profit: [2523, 1911, -3708, -2914, -600, 7265, 8211, 3945, 3328, -2239, 660, 11630]\n",
      "--------------------------------------\n",
      "Profit after 30% tax: [1766, 1338, -2596, -2040, -420, 5086, 5748, 2762, 2330, -1567, 462, 8141]\n",
      "--------------------------------------\n",
      "Profit margin in %: [12, 18, -30, -22, -5, 63, 50, 28, 23, -11, 4, 53]\n",
      "--------------------------------------\n",
      "Mean Profit after tax: 1751.0\n",
      "--------------------------------------\n",
      "Good Months: [1766, 5086, 5748, 2762, 2330, 8141]\n",
      "--------------------------------------\n",
      "Bad Months: [1338, -2596, -2040, -420, -1567, 462]\n",
      "--------------------------------------\n",
      "Best Month: 8141\n",
      "--------------------------------------\n",
      "Worst Month: -2596\n",
      "--------------------------------------\n"
     ]
    }
   ],
   "source": [
    "# Profit\n",
    "profit = []\n",
    "profit_at = []\n",
    "profit_margin = []\n",
    "\n",
    "for i in range(0, len(revenue)):\n",
    "    profit.append(round(revenue[i] - expenses[i]))\n",
    "    profit_at.append(round(0.7 * profit[i]))\n",
    "    profit_margin.append(round((profit_at[i]/revenue[i]) * 100))\n",
    "    \n",
    "print('Profit:', profit)\n",
    "print('--------------------------------------')\n",
    "print('Profit after 30% tax:', profit_at)\n",
    "print('--------------------------------------')\n",
    "print('Profit margin in %:', profit_margin)\n",
    "print('--------------------------------------')\n",
    "\n",
    "import numpy as np\n",
    "\n",
    "profit_at_arr = np.array(profit_at)\n",
    "mean_profit = profit_at_arr.mean().round()\n",
    "print('Mean Profit after tax:', mean_profit)\n",
    "print('--------------------------------------')\n",
    "\n",
    "good_months = []\n",
    "bad_months = []\n",
    "\n",
    "for i in range(0, len(profit_at)):\n",
    "    if( profit_at[i] >= mean_profit):\n",
    "        good_months.append(profit_at[i])\n",
    "    else:\n",
    "        bad_months.append(profit_at[i])\n",
    "\n",
    "print('Good Months:', good_months)\n",
    "print('--------------------------------------')\n",
    "print('Bad Months:', bad_months)\n",
    "print('--------------------------------------')\n",
    "print('Best Month:', max(good_months))\n",
    "print('--------------------------------------')\n",
    "print('Worst Month:', min(bad_months))\n",
    "print('--------------------------------------')\n",
    "\n"
   ]
  },
  {
   "cell_type": "code",
   "execution_count": null,
   "id": "b4c23aa6",
   "metadata": {},
   "outputs": [],
   "source": []
  }
 ],
 "metadata": {
  "kernelspec": {
   "display_name": "Python 3",
   "language": "python",
   "name": "python3"
  },
  "language_info": {
   "codemirror_mode": {
    "name": "ipython",
    "version": 3
   },
   "file_extension": ".py",
   "mimetype": "text/x-python",
   "name": "python",
   "nbconvert_exporter": "python",
   "pygments_lexer": "ipython3",
   "version": "3.8.8"
  }
 },
 "nbformat": 4,
 "nbformat_minor": 5
}
