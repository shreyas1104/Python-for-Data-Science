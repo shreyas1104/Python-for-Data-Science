{
 "cells": [
  {
   "cell_type": "code",
   "execution_count": 1,
   "id": "1742ff28",
   "metadata": {},
   "outputs": [],
   "source": [
    "myList = [3, 45, 67, 101]"
   ]
  },
  {
   "cell_type": "code",
   "execution_count": 3,
   "id": "1ec04609",
   "metadata": {},
   "outputs": [
    {
     "data": {
      "text/plain": [
       "[3, 45, 67, 101]"
      ]
     },
     "execution_count": 3,
     "metadata": {},
     "output_type": "execute_result"
    }
   ],
   "source": [
    "myList"
   ]
  },
  {
   "cell_type": "code",
   "execution_count": 4,
   "id": "4e90df25",
   "metadata": {},
   "outputs": [
    {
     "data": {
      "text/plain": [
       "list"
      ]
     },
     "execution_count": 4,
     "metadata": {},
     "output_type": "execute_result"
    }
   ],
   "source": [
    "type(myList)"
   ]
  },
  {
   "cell_type": "code",
   "execution_count": 14,
   "id": "8f2bf697",
   "metadata": {},
   "outputs": [],
   "source": [
    "list2 = [4, 10.5, 'Shreyas', True]"
   ]
  },
  {
   "cell_type": "code",
   "execution_count": 6,
   "id": "faae8db6",
   "metadata": {},
   "outputs": [
    {
     "data": {
      "text/plain": [
       "[4, 10.5, 'Shreyas', True]"
      ]
     },
     "execution_count": 6,
     "metadata": {},
     "output_type": "execute_result"
    }
   ],
   "source": [
    "list2"
   ]
  },
  {
   "cell_type": "code",
   "execution_count": 7,
   "id": "992e7814",
   "metadata": {},
   "outputs": [],
   "source": [
    "list3 = ['how are you', 3, myList]"
   ]
  },
  {
   "cell_type": "code",
   "execution_count": 8,
   "id": "4a7285c8",
   "metadata": {},
   "outputs": [
    {
     "data": {
      "text/plain": [
       "['how are you', 3, [3, 45, 67, 101]]"
      ]
     },
     "execution_count": 8,
     "metadata": {},
     "output_type": "execute_result"
    }
   ],
   "source": [
    "list3"
   ]
  },
  {
   "cell_type": "markdown",
   "id": "cecbf12b",
   "metadata": {},
   "source": [
    "---"
   ]
  },
  {
   "cell_type": "code",
   "execution_count": null,
   "id": "e48d3b54",
   "metadata": {},
   "outputs": [],
   "source": [
    "# Range"
   ]
  },
  {
   "cell_type": "code",
   "execution_count": 11,
   "id": "aff888a4",
   "metadata": {},
   "outputs": [
    {
     "data": {
      "text/plain": [
       "range(0, 15)"
      ]
     },
     "execution_count": 11,
     "metadata": {},
     "output_type": "execute_result"
    }
   ],
   "source": [
    "range(15)    # same as xrange() in Python2"
   ]
  },
  {
   "cell_type": "code",
   "execution_count": 10,
   "id": "a287a021",
   "metadata": {},
   "outputs": [
    {
     "data": {
      "text/plain": [
       "[0, 1, 2, 3, 4, 5, 6, 7, 8, 9, 10, 11, 12, 13, 14]"
      ]
     },
     "execution_count": 10,
     "metadata": {},
     "output_type": "execute_result"
    }
   ],
   "source": [
    "list(range(15))"
   ]
  },
  {
   "cell_type": "code",
   "execution_count": 12,
   "id": "2b39f4b5",
   "metadata": {},
   "outputs": [],
   "source": [
    "y = list(range(8))"
   ]
  },
  {
   "cell_type": "code",
   "execution_count": 13,
   "id": "aab2e6ae",
   "metadata": {},
   "outputs": [
    {
     "data": {
      "text/plain": [
       "[0, 1, 2, 3, 4, 5, 6, 7]"
      ]
     },
     "execution_count": 13,
     "metadata": {},
     "output_type": "execute_result"
    }
   ],
   "source": [
    "y"
   ]
  },
  {
   "cell_type": "code",
   "execution_count": 14,
   "id": "97f6a5bb",
   "metadata": {},
   "outputs": [],
   "source": [
    "z = list(range(1,8))"
   ]
  },
  {
   "cell_type": "code",
   "execution_count": 15,
   "id": "fed2be2d",
   "metadata": {},
   "outputs": [
    {
     "data": {
      "text/plain": [
       "[1, 2, 3, 4, 5, 6, 7]"
      ]
     },
     "execution_count": 15,
     "metadata": {},
     "output_type": "execute_result"
    }
   ],
   "source": [
    "z"
   ]
  },
  {
   "cell_type": "code",
   "execution_count": 18,
   "id": "aa7eeb96",
   "metadata": {},
   "outputs": [],
   "source": [
    "z2 =  list(range(100,111))"
   ]
  },
  {
   "cell_type": "code",
   "execution_count": 19,
   "id": "4c980713",
   "metadata": {},
   "outputs": [
    {
     "data": {
      "text/plain": [
       "[100, 101, 102, 103, 104, 105, 106, 107, 108, 109, 110]"
      ]
     },
     "execution_count": 19,
     "metadata": {},
     "output_type": "execute_result"
    }
   ],
   "source": [
    "z2"
   ]
  },
  {
   "cell_type": "code",
   "execution_count": 20,
   "id": "7c2bd299",
   "metadata": {},
   "outputs": [],
   "source": [
    "z3 = list(range(100, 201, 10))    # steps of 10"
   ]
  },
  {
   "cell_type": "code",
   "execution_count": 21,
   "id": "1d687866",
   "metadata": {},
   "outputs": [
    {
     "data": {
      "text/plain": [
       "[100, 110, 120, 130, 140, 150, 160, 170, 180, 190, 200]"
      ]
     },
     "execution_count": 21,
     "metadata": {},
     "output_type": "execute_result"
    }
   ],
   "source": [
    "z3"
   ]
  },
  {
   "cell_type": "markdown",
   "id": "72f60651",
   "metadata": {},
   "source": [
    "---"
   ]
  },
  {
   "cell_type": "code",
   "execution_count": null,
   "id": "dc0bd630",
   "metadata": {},
   "outputs": [],
   "source": [
    "# accessing individual elements, length and negative indices"
   ]
  },
  {
   "cell_type": "code",
   "execution_count": 1,
   "id": "9d51335c",
   "metadata": {},
   "outputs": [],
   "source": [
    "w = ['a', 'b', 'c', 'd', 'e']"
   ]
  },
  {
   "cell_type": "code",
   "execution_count": 2,
   "id": "b08fca65",
   "metadata": {},
   "outputs": [
    {
     "data": {
      "text/plain": [
       "['a', 'b', 'c', 'd', 'e']"
      ]
     },
     "execution_count": 2,
     "metadata": {},
     "output_type": "execute_result"
    }
   ],
   "source": [
    "w"
   ]
  },
  {
   "cell_type": "code",
   "execution_count": 3,
   "id": "dcdb0239",
   "metadata": {},
   "outputs": [
    {
     "data": {
      "text/plain": [
       "'a'"
      ]
     },
     "execution_count": 3,
     "metadata": {},
     "output_type": "execute_result"
    }
   ],
   "source": [
    "w[0]"
   ]
  },
  {
   "cell_type": "code",
   "execution_count": 6,
   "id": "fecf1068",
   "metadata": {},
   "outputs": [
    {
     "data": {
      "text/plain": [
       "'d'"
      ]
     },
     "execution_count": 6,
     "metadata": {},
     "output_type": "execute_result"
    }
   ],
   "source": [
    "w[3]"
   ]
  },
  {
   "cell_type": "code",
   "execution_count": 5,
   "id": "d7feb4ad",
   "metadata": {},
   "outputs": [
    {
     "data": {
      "text/plain": [
       "5"
      ]
     },
     "execution_count": 5,
     "metadata": {},
     "output_type": "execute_result"
    }
   ],
   "source": [
    "len(w)"
   ]
  },
  {
   "cell_type": "code",
   "execution_count": null,
   "id": "552f7e0f",
   "metadata": {},
   "outputs": [],
   "source": [
    "#  0    1   2   3   4\n",
    "# -5   -4  -3  -2  -1"
   ]
  },
  {
   "cell_type": "code",
   "execution_count": 7,
   "id": "d93c034e",
   "metadata": {},
   "outputs": [
    {
     "data": {
      "text/plain": [
       "'e'"
      ]
     },
     "execution_count": 7,
     "metadata": {},
     "output_type": "execute_result"
    }
   ],
   "source": [
    "w[-1]"
   ]
  },
  {
   "cell_type": "code",
   "execution_count": 8,
   "id": "a7823785",
   "metadata": {},
   "outputs": [
    {
     "data": {
      "text/plain": [
       "'b'"
      ]
     },
     "execution_count": 8,
     "metadata": {},
     "output_type": "execute_result"
    }
   ],
   "source": [
    "w[-4]"
   ]
  },
  {
   "cell_type": "markdown",
   "id": "d02046f6",
   "metadata": {},
   "source": [
    "---"
   ]
  },
  {
   "cell_type": "code",
   "execution_count": null,
   "id": "c04942f9",
   "metadata": {},
   "outputs": [],
   "source": [
    "# overwriting"
   ]
  },
  {
   "cell_type": "code",
   "execution_count": 9,
   "id": "4a16645a",
   "metadata": {},
   "outputs": [],
   "source": [
    "w[2] = 63"
   ]
  },
  {
   "cell_type": "code",
   "execution_count": 11,
   "id": "5719a67b",
   "metadata": {},
   "outputs": [
    {
     "data": {
      "text/plain": [
       "['a', 'b', 63, 'd', 'e']"
      ]
     },
     "execution_count": 11,
     "metadata": {},
     "output_type": "execute_result"
    }
   ],
   "source": [
    "w"
   ]
  },
  {
   "cell_type": "markdown",
   "id": "caf10519",
   "metadata": {},
   "source": [
    "---"
   ]
  },
  {
   "cell_type": "code",
   "execution_count": null,
   "id": "e27a6247",
   "metadata": {},
   "outputs": [],
   "source": [
    "# using values from one list for another"
   ]
  },
  {
   "cell_type": "code",
   "execution_count": 15,
   "id": "461b14c8",
   "metadata": {},
   "outputs": [],
   "source": [
    "w[3] = list2[2]"
   ]
  },
  {
   "cell_type": "code",
   "execution_count": 16,
   "id": "df4b84bb",
   "metadata": {},
   "outputs": [
    {
     "data": {
      "text/plain": [
       "['a', 'b', 63, 'Shreyas', 'e']"
      ]
     },
     "execution_count": 16,
     "metadata": {},
     "output_type": "execute_result"
    }
   ],
   "source": [
    "w"
   ]
  },
  {
   "cell_type": "markdown",
   "id": "e0f4e7ec",
   "metadata": {},
   "source": [
    "---"
   ]
  },
  {
   "cell_type": "code",
   "execution_count": 17,
   "id": "f5288045",
   "metadata": {},
   "outputs": [],
   "source": [
    "# Slicing"
   ]
  },
  {
   "cell_type": "code",
   "execution_count": 18,
   "id": "447f5a6f",
   "metadata": {},
   "outputs": [],
   "source": [
    "letters = ['A', 'B', 'C', 'D', 'E', 'F', 'G', 'H', 'I', 'J']"
   ]
  },
  {
   "cell_type": "code",
   "execution_count": 19,
   "id": "aebcdf03",
   "metadata": {},
   "outputs": [
    {
     "data": {
      "text/plain": [
       "['A', 'B', 'C', 'D', 'E', 'F', 'G', 'H', 'I', 'J']"
      ]
     },
     "execution_count": 19,
     "metadata": {},
     "output_type": "execute_result"
    }
   ],
   "source": [
    "letters"
   ]
  },
  {
   "cell_type": "code",
   "execution_count": 20,
   "id": "4477524d",
   "metadata": {},
   "outputs": [
    {
     "data": {
      "text/plain": [
       "['A', 'B', 'C', 'D', 'E', 'F', 'G', 'H', 'I', 'J']"
      ]
     },
     "execution_count": 20,
     "metadata": {},
     "output_type": "execute_result"
    }
   ],
   "source": [
    "letters[:]"
   ]
  },
  {
   "cell_type": "code",
   "execution_count": 22,
   "id": "14c94776",
   "metadata": {},
   "outputs": [
    {
     "data": {
      "text/plain": [
       "['C', 'D', 'E', 'F', 'G', 'H', 'I', 'J']"
      ]
     },
     "execution_count": 22,
     "metadata": {},
     "output_type": "execute_result"
    }
   ],
   "source": [
    "letters[2:]"
   ]
  },
  {
   "cell_type": "code",
   "execution_count": 23,
   "id": "050592fa",
   "metadata": {},
   "outputs": [
    {
     "data": {
      "text/plain": [
       "['A', 'B', 'C', 'D', 'E', 'F', 'G']"
      ]
     },
     "execution_count": 23,
     "metadata": {},
     "output_type": "execute_result"
    }
   ],
   "source": [
    "letters[:7]"
   ]
  },
  {
   "cell_type": "code",
   "execution_count": 24,
   "id": "59945319",
   "metadata": {},
   "outputs": [
    {
     "data": {
      "text/plain": [
       "['E', 'F', 'G', 'H', 'I', 'J']"
      ]
     },
     "execution_count": 24,
     "metadata": {},
     "output_type": "execute_result"
    }
   ],
   "source": [
    "letters[-6:]"
   ]
  },
  {
   "cell_type": "code",
   "execution_count": 25,
   "id": "a38b411c",
   "metadata": {},
   "outputs": [
    {
     "data": {
      "text/plain": [
       "['A', 'B', 'C', 'D']"
      ]
     },
     "execution_count": 25,
     "metadata": {},
     "output_type": "execute_result"
    }
   ],
   "source": [
    "letters[:-6]"
   ]
  },
  {
   "cell_type": "code",
   "execution_count": 26,
   "id": "5c9e5cb2",
   "metadata": {},
   "outputs": [
    {
     "data": {
      "text/plain": [
       "['C', 'D', 'E', 'F', 'G']"
      ]
     },
     "execution_count": 26,
     "metadata": {},
     "output_type": "execute_result"
    }
   ],
   "source": [
    "letters[2:7]"
   ]
  },
  {
   "cell_type": "code",
   "execution_count": 27,
   "id": "83ade493",
   "metadata": {},
   "outputs": [
    {
     "data": {
      "text/plain": [
       "['C', 'D', 'E', 'F', 'G']"
      ]
     },
     "execution_count": 27,
     "metadata": {},
     "output_type": "execute_result"
    }
   ],
   "source": [
    "letters[-8:7]"
   ]
  },
  {
   "cell_type": "code",
   "execution_count": 28,
   "id": "1544ed32",
   "metadata": {},
   "outputs": [
    {
     "data": {
      "text/plain": [
       "['C', 'D', 'E', 'F', 'G']"
      ]
     },
     "execution_count": 28,
     "metadata": {},
     "output_type": "execute_result"
    }
   ],
   "source": [
    "letters[2:-3]"
   ]
  },
  {
   "cell_type": "code",
   "execution_count": 29,
   "id": "5f50e023",
   "metadata": {},
   "outputs": [],
   "source": [
    "# advanced slicing"
   ]
  },
  {
   "cell_type": "code",
   "execution_count": 30,
   "id": "4effe2f9",
   "metadata": {},
   "outputs": [
    {
     "data": {
      "text/plain": [
       "['C', 'E', 'G', 'I']"
      ]
     },
     "execution_count": 30,
     "metadata": {},
     "output_type": "execute_result"
    }
   ],
   "source": [
    "letters[2:9:2]"
   ]
  },
  {
   "cell_type": "code",
   "execution_count": 31,
   "id": "fa258304",
   "metadata": {},
   "outputs": [
    {
     "data": {
      "text/plain": [
       "['A', 'D', 'G', 'J']"
      ]
     },
     "execution_count": 31,
     "metadata": {},
     "output_type": "execute_result"
    }
   ],
   "source": [
    "letters[::3]"
   ]
  },
  {
   "cell_type": "code",
   "execution_count": 32,
   "id": "0a01c5f3",
   "metadata": {},
   "outputs": [
    {
     "data": {
      "text/plain": [
       "['C', 'E', 'G', 'I']"
      ]
     },
     "execution_count": 32,
     "metadata": {},
     "output_type": "execute_result"
    }
   ],
   "source": [
    "letters[2::2]"
   ]
  },
  {
   "cell_type": "code",
   "execution_count": 33,
   "id": "19b94597",
   "metadata": {},
   "outputs": [
    {
     "data": {
      "text/plain": [
       "['J', 'I', 'H', 'G', 'F', 'E', 'D', 'C', 'B', 'A']"
      ]
     },
     "execution_count": 33,
     "metadata": {},
     "output_type": "execute_result"
    }
   ],
   "source": [
    "letters[::-1]      #reversing direction"
   ]
  },
  {
   "cell_type": "code",
   "execution_count": 36,
   "id": "94d89572",
   "metadata": {},
   "outputs": [
    {
     "data": {
      "text/plain": [
       "[]"
      ]
     },
     "execution_count": 36,
     "metadata": {},
     "output_type": "execute_result"
    }
   ],
   "source": [
    "letters[2:9:-2]"
   ]
  },
  {
   "cell_type": "code",
   "execution_count": 35,
   "id": "37d8c79a",
   "metadata": {},
   "outputs": [
    {
     "data": {
      "text/plain": [
       "['J', 'H', 'F', 'D']"
      ]
     },
     "execution_count": 35,
     "metadata": {},
     "output_type": "execute_result"
    }
   ],
   "source": [
    "letters[9:2:-2]"
   ]
  },
  {
   "cell_type": "code",
   "execution_count": 37,
   "id": "8becd7f8",
   "metadata": {},
   "outputs": [
    {
     "data": {
      "text/plain": [
       "['H', 'F', 'D', 'B']"
      ]
     },
     "execution_count": 37,
     "metadata": {},
     "output_type": "execute_result"
    }
   ],
   "source": [
    "letters[7::-2]"
   ]
  },
  {
   "cell_type": "code",
   "execution_count": 40,
   "id": "a2a1c266",
   "metadata": {},
   "outputs": [
    {
     "data": {
      "text/plain": [
       "['J', 'H', 'F']"
      ]
     },
     "execution_count": 40,
     "metadata": {},
     "output_type": "execute_result"
    }
   ],
   "source": [
    "letters[:4:-2]"
   ]
  },
  {
   "cell_type": "markdown",
   "id": "c3324db5",
   "metadata": {},
   "source": [
    "---"
   ]
  },
  {
   "cell_type": "code",
   "execution_count": 41,
   "id": "f133fd67",
   "metadata": {},
   "outputs": [],
   "source": [
    "# tuples = immutable list"
   ]
  },
  {
   "cell_type": "code",
   "execution_count": 42,
   "id": "0c0f120f",
   "metadata": {},
   "outputs": [],
   "source": [
    "t1 = (234, 345, 456)"
   ]
  },
  {
   "cell_type": "code",
   "execution_count": 43,
   "id": "c0768455",
   "metadata": {},
   "outputs": [
    {
     "data": {
      "text/plain": [
       "(234, 345, 456)"
      ]
     },
     "execution_count": 43,
     "metadata": {},
     "output_type": "execute_result"
    }
   ],
   "source": [
    "t1"
   ]
  },
  {
   "cell_type": "code",
   "execution_count": 44,
   "id": "c4ccbba8",
   "metadata": {},
   "outputs": [
    {
     "data": {
      "text/plain": [
       "456"
      ]
     },
     "execution_count": 44,
     "metadata": {},
     "output_type": "execute_result"
    }
   ],
   "source": [
    "t1[2]"
   ]
  },
  {
   "cell_type": "code",
   "execution_count": 45,
   "id": "b414d7f1",
   "metadata": {},
   "outputs": [
    {
     "ename": "TypeError",
     "evalue": "'tuple' object does not support item assignment",
     "output_type": "error",
     "traceback": [
      "\u001b[1;31m---------------------------------------------------------------------------\u001b[0m",
      "\u001b[1;31mTypeError\u001b[0m                                 Traceback (most recent call last)",
      "\u001b[1;32m<ipython-input-45-4065f514882c>\u001b[0m in \u001b[0;36m<module>\u001b[1;34m\u001b[0m\n\u001b[1;32m----> 1\u001b[1;33m \u001b[0mt1\u001b[0m\u001b[1;33m[\u001b[0m\u001b[1;36m1\u001b[0m\u001b[1;33m]\u001b[0m \u001b[1;33m=\u001b[0m \u001b[1;36m45\u001b[0m\u001b[1;33m\u001b[0m\u001b[1;33m\u001b[0m\u001b[0m\n\u001b[0m",
      "\u001b[1;31mTypeError\u001b[0m: 'tuple' object does not support item assignment"
     ]
    }
   ],
   "source": [
    "t1[1] = 45"
   ]
  },
  {
   "cell_type": "code",
   "execution_count": 46,
   "id": "5f834831",
   "metadata": {},
   "outputs": [],
   "source": [
    "l1 = [2,3,4,5,6,7]"
   ]
  },
  {
   "cell_type": "code",
   "execution_count": 47,
   "id": "275f9b22",
   "metadata": {},
   "outputs": [
    {
     "data": {
      "text/plain": [
       "(2, 3, 4, 5, 6, 7)"
      ]
     },
     "execution_count": 47,
     "metadata": {},
     "output_type": "execute_result"
    }
   ],
   "source": [
    "tuple(l1)"
   ]
  }
 ],
 "metadata": {
  "kernelspec": {
   "display_name": "Python 3",
   "language": "python",
   "name": "python3"
  },
  "language_info": {
   "codemirror_mode": {
    "name": "ipython",
    "version": 3
   },
   "file_extension": ".py",
   "mimetype": "text/x-python",
   "name": "python",
   "nbconvert_exporter": "python",
   "pygments_lexer": "ipython3",
   "version": "3.8.8"
  }
 },
 "nbformat": 4,
 "nbformat_minor": 5
}
