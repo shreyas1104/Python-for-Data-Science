{
 "cells": [
  {
   "cell_type": "code",
   "execution_count": 1,
   "id": "cc7e2391",
   "metadata": {},
   "outputs": [],
   "source": [
    "dict1 = {'key1':'val1', 'key2':'val2', 'key3':'val3'}"
   ]
  },
  {
   "cell_type": "code",
   "execution_count": 2,
   "id": "c1ffc8df",
   "metadata": {},
   "outputs": [
    {
     "name": "stdout",
     "output_type": "stream",
     "text": [
      "{'key1': 'val1', 'key2': 'val2', 'key3': 'val3'}\n"
     ]
    }
   ],
   "source": [
    "print(dict1)"
   ]
  },
  {
   "cell_type": "code",
   "execution_count": 3,
   "id": "1ed7198d",
   "metadata": {},
   "outputs": [
    {
     "name": "stdout",
     "output_type": "stream",
     "text": [
      "val1\n"
     ]
    }
   ],
   "source": [
    "print(dict1['key1'])"
   ]
  },
  {
   "cell_type": "code",
   "execution_count": 4,
   "id": "196fe77c",
   "metadata": {},
   "outputs": [],
   "source": [
    "dict2 = {2010:'Germany', 2012:'France', 2014:'USA'}"
   ]
  },
  {
   "cell_type": "code",
   "execution_count": 12,
   "id": "f489910c",
   "metadata": {},
   "outputs": [
    {
     "name": "stdout",
     "output_type": "stream",
     "text": [
      "USA\n",
      "{2010: 'Germany', 2012: 'France', 2014: 'USA'}\n"
     ]
    }
   ],
   "source": [
    "print(dict2[2014])\n",
    "print(dict2)"
   ]
  },
  {
   "cell_type": "code",
   "execution_count": 10,
   "id": "6a429893",
   "metadata": {},
   "outputs": [],
   "source": [
    "dict3 = {1:'Spain', 'Germany':True, 'England':45}    # can have a mix of datatypes"
   ]
  },
  {
   "cell_type": "code",
   "execution_count": 11,
   "id": "6e9c1190",
   "metadata": {},
   "outputs": [
    {
     "name": "stdout",
     "output_type": "stream",
     "text": [
      "45\n",
      "{1: 'Spain', 'Germany': True, 'England': 45}\n"
     ]
    }
   ],
   "source": [
    "print(dict3['England'])\n",
    "print(dict3)"
   ]
  },
  {
   "cell_type": "code",
   "execution_count": null,
   "id": "9bfd6312",
   "metadata": {},
   "outputs": [],
   "source": []
  }
 ],
 "metadata": {
  "kernelspec": {
   "display_name": "Python 3",
   "language": "python",
   "name": "python3"
  },
  "language_info": {
   "codemirror_mode": {
    "name": "ipython",
    "version": 3
   },
   "file_extension": ".py",
   "mimetype": "text/x-python",
   "name": "python",
   "nbconvert_exporter": "python",
   "pygments_lexer": "ipython3",
   "version": "3.8.8"
  }
 },
 "nbformat": 4,
 "nbformat_minor": 5
}
