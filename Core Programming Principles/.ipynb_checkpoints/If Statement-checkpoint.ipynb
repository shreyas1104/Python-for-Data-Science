{
 "cells": [
  {
   "cell_type": "code",
   "execution_count": 1,
   "id": "dd7517d7",
   "metadata": {},
   "outputs": [],
   "source": [
    "# --- -2 --- -1 --- 0 --- 1 --- 2"
   ]
  },
  {
   "cell_type": "code",
   "execution_count": 4,
   "id": "67ededcc",
   "metadata": {},
   "outputs": [],
   "source": [
    "import numpy as np\n",
    "from numpy.random import randn"
   ]
  },
  {
   "cell_type": "code",
   "execution_count": 10,
   "id": "44b7059a",
   "metadata": {},
   "outputs": [
    {
     "data": {
      "text/plain": [
       "-0.5741383387911612"
      ]
     },
     "execution_count": 10,
     "metadata": {},
     "output_type": "execute_result"
    }
   ],
   "source": [
    "randn()"
   ]
  },
  {
   "cell_type": "code",
   "execution_count": 17,
   "id": "2c39b9fa",
   "metadata": {},
   "outputs": [
    {
     "name": "stdout",
     "output_type": "stream",
     "text": [
      "1.0854017723268239\n",
      "Greater than 1\n"
     ]
    }
   ],
   "source": [
    "# --- -2 --- -1 --- 0 --- 1 --- 2\n",
    "x = randn()\n",
    "if x > 1:\n",
    "    answer = 'Greater than 1'\n",
    "else:\n",
    "    answer = 'Less than 1'\n",
    "print(x)\n",
    "print(answer)"
   ]
  },
  {
   "cell_type": "markdown",
   "id": "6892f5d6",
   "metadata": {},
   "source": [
    "---"
   ]
  },
  {
   "cell_type": "code",
   "execution_count": 29,
   "id": "46e77869",
   "metadata": {},
   "outputs": [
    {
     "name": "stdout",
     "output_type": "stream",
     "text": [
      "1.6327953258781511\n",
      "Greater than 1\n"
     ]
    }
   ],
   "source": [
    "# --- -2 --- -1 --- 0 --- 1 --- 2\n",
    "x = randn()\n",
    "if x > 1:\n",
    "    answer = 'Greater than 1'\n",
    "else:\n",
    "    if x >= -1:\n",
    "        answer = 'Between -1 and 1'\n",
    "    else:\n",
    "        answer = 'Less than -1'    \n",
    "print(x)\n",
    "print(answer)"
   ]
  },
  {
   "cell_type": "markdown",
   "id": "bfff261b",
   "metadata": {},
   "source": [
    "---"
   ]
  },
  {
   "cell_type": "code",
   "execution_count": 36,
   "id": "8ec6d333",
   "metadata": {},
   "outputs": [
    {
     "name": "stdout",
     "output_type": "stream",
     "text": [
      "-1.0726917373456952\n",
      "Less than -1\n"
     ]
    }
   ],
   "source": [
    "# --- -2 --- -1 --- 0 --- 1 --- 2\n",
    "x = randn()\n",
    "if x > 1:\n",
    "    answer = 'Greater than 1'\n",
    "elif x > -1 and x < 1:\n",
    "    answer = 'Between -1 and 1'\n",
    "else:\n",
    "    answer = 'Less than -1'\n",
    "print(x)\n",
    "print(answer)"
   ]
  }
 ],
 "metadata": {
  "kernelspec": {
   "display_name": "Python 3",
   "language": "python",
   "name": "python3"
  },
  "language_info": {
   "codemirror_mode": {
    "name": "ipython",
    "version": 3
   },
   "file_extension": ".py",
   "mimetype": "text/x-python",
   "name": "python",
   "nbconvert_exporter": "python",
   "pygments_lexer": "ipython3",
   "version": "3.8.8"
  }
 },
 "nbformat": 4,
 "nbformat_minor": 5
}
