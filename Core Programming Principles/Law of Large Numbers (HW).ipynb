{
 "cells": [
  {
   "cell_type": "code",
   "execution_count": 1,
   "id": "a87da503",
   "metadata": {},
   "outputs": [],
   "source": [
    "# Check if the percent of random values lying bw 1 & -1 is close to 68.2% (expected) as n is increased"
   ]
  },
  {
   "cell_type": "code",
   "execution_count": 3,
   "id": "e0d6c515",
   "metadata": {},
   "outputs": [],
   "source": [
    "import numpy as np\n",
    "from numpy.random import randn"
   ]
  },
  {
   "cell_type": "code",
   "execution_count": 16,
   "id": "33ffb530",
   "metadata": {},
   "outputs": [
    {
     "name": "stdout",
     "output_type": "stream",
     "text": [
      "68300\n",
      "68.30000000000001\n"
     ]
    }
   ],
   "source": [
    "n = 100000\n",
    "i = 0\n",
    "count = 0\n",
    "while i < n:\n",
    "    x = randn()\n",
    "    #print(x)\n",
    "    if x > -1 and x < 1:\n",
    "        count = count+1\n",
    "    i = i+1\n",
    "print(count)\n",
    "percent = (count/n)*100\n",
    "print(percent)"
   ]
  },
  {
   "cell_type": "markdown",
   "id": "1e585f1b",
   "metadata": {},
   "source": [
    "---"
   ]
  },
  {
   "cell_type": "code",
   "execution_count": 19,
   "id": "f2aa2a46",
   "metadata": {},
   "outputs": [
    {
     "name": "stdout",
     "output_type": "stream",
     "text": [
      "68406\n",
      "68.406\n"
     ]
    }
   ],
   "source": [
    "n = 100000\n",
    "count = 0\n",
    "for i in randn(n):\n",
    "    if i > -1 and i < 1:\n",
    "        count = count+1\n",
    "print(count)\n",
    "percent = (count/n)*100\n",
    "print(percent)"
   ]
  }
 ],
 "metadata": {
  "kernelspec": {
   "display_name": "Python 3",
   "language": "python",
   "name": "python3"
  },
  "language_info": {
   "codemirror_mode": {
    "name": "ipython",
    "version": 3
   },
   "file_extension": ".py",
   "mimetype": "text/x-python",
   "name": "python",
   "nbconvert_exporter": "python",
   "pygments_lexer": "ipython3",
   "version": "3.8.8"
  }
 },
 "nbformat": 4,
 "nbformat_minor": 5
}
